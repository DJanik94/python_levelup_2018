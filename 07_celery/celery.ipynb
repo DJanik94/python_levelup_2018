{
 "cells": [
  {
   "cell_type": "markdown",
   "metadata": {
    "slideshow": {
     "slide_type": "slide"
    }
   },
   "source": [
    "# Sprytny sposób na prokrastynację\n",
    "## Praca z asynchroniczną kolejką zadań Celery\n",
    "### Jakub Szponder\n",
    "#### Python Level Up, 19.04.2018"
   ]
  },
  {
   "cell_type": "markdown",
   "metadata": {
    "slideshow": {
     "slide_type": "subslide"
    }
   },
   "source": [
    "![Logo kursu Python Level Up](https://raw.githubusercontent.com/daftcode/python_levelup_2018/master/logo.png)"
   ]
  },
  {
   "cell_type": "markdown",
   "metadata": {
    "slideshow": {
     "slide_type": "subslide"
    }
   },
   "source": [
    "![Plan zajęć](https://raw.githubusercontent.com/daftcode/python_levelup_2018/master/plan_zajec.png)"
   ]
  },
  {
   "cell_type": "markdown",
   "metadata": {
    "slideshow": {
     "slide_type": "subslide"
    }
   },
   "source": [
    "# http://praktyki.daftcode.pl/\n",
    "Czekamy do 20 kwietnia!"
   ]
  },
  {
   "cell_type": "markdown",
   "metadata": {
    "slideshow": {
     "slide_type": "slide"
    }
   },
   "source": [
    "# Aplikacja webowa\n",
    "![Schemat prostej aplikacji webowej](./web_application_flow.png)"
   ]
  },
  {
   "cell_type": "markdown",
   "metadata": {
    "slideshow": {
     "slide_type": "subslide"
    }
   },
   "source": [
    "W aplikacjach webowych zależy nam na skracaniu czasu obsługi requestu, dzięki temu:\n",
    "- użytkownicy nas bardziej lubią\n",
    "- nie blokujemy workerów aplikacyjnych, przez co jesteśmy w stanie obsługiwać więcej requestów"
   ]
  },
  {
   "cell_type": "markdown",
   "metadata": {
    "slideshow": {
     "slide_type": "subslide"
    }
   },
   "source": [
    "# Aplikacja webowa wykorzystująca kolejkę tasków\n",
    "![Schemat aplikacji webowej z wykorzystaniem Celery](./web_application_flow_celery.png)"
   ]
  },
  {
   "cell_type": "markdown",
   "metadata": {
    "slideshow": {
     "slide_type": "subslide"
    }
   },
   "source": [
    "Serwer zleca czasochłonne zadania (__Taski__) do wykonania __Workerowi__, czyli procesowi, którego zadaniem jest wykonywanie tego typu zadań.\n",
    "Do komunikacji pomiędzy __Aplikacją__ a __Workerem__ używamy __Brokera__"
   ]
  },
  {
   "cell_type": "markdown",
   "metadata": {
    "slideshow": {
     "slide_type": "subslide"
    }
   },
   "source": [
    "Co może być dobrym __Taskiem__?\n",
    "- zadanie, które możemy odłożyć na później (nie musi być zrobione w trakcie zwracania Responsu)\n",
    "- czasochłonne zadanie, np. wysyłanie requestu na zewnętrzny serwer"
   ]
  },
  {
   "cell_type": "markdown",
   "metadata": {
    "slideshow": {
     "slide_type": "subslide"
    }
   },
   "source": [
    "# Przykłady z życia\n",
    "- wysyłka maila po stworzeniu konta użytkownikowi\n",
    "- generowanie raportu w PDFie\n",
    "- import/eksport dużych plików\n",
    "- serwis do skalowania obrazów"
   ]
  },
  {
   "cell_type": "markdown",
   "metadata": {
    "slideshow": {
     "slide_type": "subslide"
    }
   },
   "source": [
    "# Trochę większy przykład z życia - Twitter"
   ]
  },
  {
   "cell_type": "markdown",
   "metadata": {
    "slideshow": {
     "slide_type": "subslide"
    }
   },
   "source": [
    "![Przykład Twittera](./twitter_use_case.png)"
   ]
  },
  {
   "cell_type": "markdown",
   "metadata": {
    "slideshow": {
     "slide_type": "slide"
    }
   },
   "source": [
    "# Celery\n",
    "- najpopularniejsza kolejka tasków w Pythonie\n",
    "- minimalny przykład jest bardzo krótki i łatwy do stworzenia\n",
    "- pod spodem dzieje się trochę magii"
   ]
  },
  {
   "cell_type": "markdown",
   "metadata": {
    "slideshow": {
     "slide_type": "slide"
    }
   },
   "source": [
    "# Architektura\n",
    "- __Klient__\n",
    "- __Broker__\n",
    "- __Worker__"
   ]
  },
  {
   "cell_type": "markdown",
   "metadata": {
    "slideshow": {
     "slide_type": "subslide"
    }
   },
   "source": [
    "## Klient\n",
    "Aplikacja, która korzysta wykorzystuje asynchroniczne zadania"
   ]
  },
  {
   "cell_type": "markdown",
   "metadata": {
    "slideshow": {
     "slide_type": "subslide"
    }
   },
   "source": [
    "## Broker\n",
    "- Kolejka na której odkładane są zadania do wykonania\n",
    "- Celery umożliwia wybranie jednego z wielu typów brokerów\n",
    "- Narzędzia, które mogą być brokerem:\n",
    "  * __Redis__\n",
    "  * RabbitMQ\n",
    "  * zwykła relacyjna baza danych (SQLite / PostgreSQL)    \n",
    "- argumenty przekazywane do taska są serializowane (domyślnie do JSONa) i zapisywane przy pomocy brokera razem z taskiem "
   ]
  },
  {
   "cell_type": "markdown",
   "metadata": {
    "slideshow": {
     "slide_type": "subslide"
    }
   },
   "source": [
    "## Worker\n",
    "Proces, który pobiera zadania z kolejki, a następnie je wykonuje"
   ]
  },
  {
   "cell_type": "markdown",
   "metadata": {
    "slideshow": {
     "slide_type": "slide"
    }
   },
   "source": [
    "# Redis\n",
    "- struktura danych, która umożliwia trzymanie danych w pamięci operacyjnej\n",
    "- używane do cachowania, jako broker do kolejek zadań, a także jako baza danych\n",
    "- trzyma dane w postaci klucz-wartość\n",
    "- jest interaktywny tutorial online: http://try.redis.io/\n",
    "- a tutaj informacje o instalowaniu: https://redis.io/topics/quickstart"
   ]
  },
  {
   "cell_type": "markdown",
   "metadata": {
    "slideshow": {
     "slide_type": "slide"
    }
   },
   "source": [
    "## Instalacja Celery\n",
    "```bash\n",
    "pip install celery\n",
    "pip install -U \"celery[redis]\"\n",
    "```"
   ]
  },
  {
   "cell_type": "markdown",
   "metadata": {
    "slideshow": {
     "slide_type": "slide"
    }
   },
   "source": [
    "# Pierwszy kod!\n",
    "1. Tworzymy aplikację Celery i definiujemy taska\n",
    "2. Uruchamiamy Redisa\n",
    "3. Startujemy Workera\n",
    "4. Kolejkujemy taska"
   ]
  },
  {
   "cell_type": "markdown",
   "metadata": {
    "slideshow": {
     "slide_type": "subslide"
    }
   },
   "source": [
    "## Definicja aplikacji Celery\n",
    "```python\n",
    "from celery import Celery\n",
    "\n",
    "app = Celery('tasks', broker='redis://localhost')\n",
    "\n",
    "@app.task\n",
    "def add(x, y):\n",
    "    return x + y\n",
    "```"
   ]
  },
  {
   "cell_type": "markdown",
   "metadata": {
    "slideshow": {
     "slide_type": "subslide"
    }
   },
   "source": [
    "## Starowanie Workera\n",
    "```bash\n",
    "celery -A tasks worker --loglevel=info\n",
    "```"
   ]
  },
  {
   "cell_type": "markdown",
   "metadata": {
    "slideshow": {
     "slide_type": "subslide"
    }
   },
   "source": [
    "## Uruchamianie funkcji taska\n",
    "- w dalszym ciągu można normalnie wywoływać funkcję taska\n",
    "```python\n",
    "add(3, 5)\n",
    "```\n",
    "- a tak się wywołuje taska z wykorzystaniem Celery\n",
    "```python\n",
    "add.delay(3, 5)\n",
    "```"
   ]
  },
  {
   "cell_type": "markdown",
   "metadata": {
    "slideshow": {
     "slide_type": "subslide"
    }
   },
   "source": [
    "Wynik wywołania taska za pomocą delay to obiekt klasy __AsyncResult__\n",
    "http://docs.celeryproject.org/en/latest/reference/celery.result.html#celery.result.AsyncResult"
   ]
  },
  {
   "cell_type": "markdown",
   "metadata": {
    "slideshow": {
     "slide_type": "subslide"
    }
   },
   "source": [
    "- __delay__ to \"skrót\", który pod spodem wywołuje bardziej potężną metodę __apply_async__\n",
    "- __apply_async__ pozwala nam np. określić za ile sekund chcemy uruchomić taska (_countdown_)\n",
    "```python\n",
    "add.apply_async(args=(3, 5), countdown=10)\n",
    "```\n",
    "- więcej: http://docs.celeryproject.org/en/latest/userguide/calling.html#basics"
   ]
  },
  {
   "cell_type": "markdown",
   "metadata": {
    "slideshow": {
     "slide_type": "slide"
    }
   },
   "source": [
    "# Używanie Celery z aplikacji we Flasku\n",
    "```python\n",
    "from flask import Flask\n",
    "from celery import Celery\n",
    "\n",
    "app = Flask(__name__)\n",
    "app.config['CELERY_BROKER_URL'] = 'redis://localhost'\n",
    "\n",
    "celery = Celery(app.name, broker=app.config['CELERY_BROKER_URL'])\n",
    "celery.conf.update(app.config)\n",
    "\n",
    "@celery.task()\n",
    "def add(x, y):\n",
    "    return x + y\n",
    "```"
   ]
  },
  {
   "cell_type": "markdown",
   "metadata": {
    "slideshow": {
     "slide_type": "slide"
    }
   },
   "source": [
    "# Przykład 1\n",
    "Stworzyć endpointy:\n",
    "- `/sync_request`, który wykona synchronicznie GET na adres `http://httpbin.org/delay/5`\n",
    "- `/async_request`, który wykona request pod ten sam adres, ale z wykorzystaniem __Celery__"
   ]
  },
  {
   "cell_type": "code",
   "execution_count": null,
   "metadata": {
    "slideshow": {
     "slide_type": "subslide"
    }
   },
   "outputs": [],
   "source": [
    "import requests\n",
    "\n",
    "@celery.task()\n",
    "def make_request():\n",
    "    requests.get('http://httpbin.org/delay/5')\n",
    "\n",
    "\n",
    "@app.route('/sync_request')\n",
    "def make_sync_request():\n",
    "    start = time.time()\n",
    "    make_request()  # bez delay\n",
    "    end = time.time()\n",
    "    return str(end - start)\n",
    "\n",
    "    \n",
    "@app.route('/async_request')\n",
    "def make_async_request():\n",
    "    start = time.time()\n",
    "    make_request.delay()  # z delay\n",
    "    end = time.time()\n",
    "    return str(end - start)"
   ]
  },
  {
   "cell_type": "markdown",
   "metadata": {
    "slideshow": {
     "slide_type": "subslide"
    }
   },
   "source": [
    "## Uruchamianie\n",
    "\n",
    "```bash\n",
    "celery -A app.celery worker --loglevel=info\n",
    "```"
   ]
  },
  {
   "cell_type": "markdown",
   "metadata": {
    "slideshow": {
     "slide_type": "slide"
    }
   },
   "source": [
    "# Przykład 2\n",
    "Obsłużyć endpoint `/users`\n",
    "- metoda `GET` - wyświetla formularz tworzenia użytkownika z jednym polem - `email`, po submicie idzie `POST` na `/users/`\n",
    "- metoda `POST` - wysyła powitalnego maila z tematem `Python Level Up`, o treści `Welcome to Python Level Up Sample Website!` na podany adres"
   ]
  },
  {
   "cell_type": "code",
   "execution_count": null,
   "metadata": {
    "slideshow": {
     "slide_type": "subslide"
    }
   },
   "outputs": [],
   "source": [
    "import smtplib\n",
    "\n",
    "EMAIL_SENDER = os.environ.get('MAIL_USERNAME')\n",
    "EMAIL_SENDER_PASSWD = os.environ.get('MAIL_PASSWORD')\n",
    "\n",
    "@celery.task()\n",
    "def send_invitation_email(email):\n",
    "    server = smtplib.SMTP_SSL('smtp.gmail.com', 465)\n",
    "    server.login(EMAIL_SENDER, EMAIL_SENDER_PASSWD)\n",
    "    subject = 'Python Level Up'\n",
    "    text = 'Welcome to Python Level Up Sample Website!'\n",
    "    body = '\\r\\n'.join(\n",
    "        [\n",
    "            'To: %s' % email,\n",
    "            'From: %s' % EMAIL_SENDER,\n",
    "            'Subject: %s' % subject,\n",
    "            '', text\n",
    "        ]\n",
    "    )\n",
    "    server.sendmail(EMAIL_SENDER, [email], body)"
   ]
  },
  {
   "cell_type": "code",
   "execution_count": null,
   "metadata": {},
   "outputs": [],
   "source": [
    "@app.route('/users', methods=['GET', 'POST'])\n",
    "def users():\n",
    "    if request.method == 'POST':\n",
    "        email = request.form['email']\n",
    "        send_invitation_email.delay(email)\n",
    "        return 'Konto założone'\n",
    "    else:\n",
    "        return render_template('add_user.html')"
   ]
  },
  {
   "cell_type": "markdown",
   "metadata": {
    "slideshow": {
     "slide_type": "slide"
    }
   },
   "source": [
    "# Deploy na heroku\n",
    "- https://devcenter.heroku.com/articles/celery-heroku"
   ]
  },
  {
   "cell_type": "markdown",
   "metadata": {},
   "source": [
    "### Procfile\n",
    "```\n",
    "web: gunicorn app:app\n",
    "worker: celery worker -A app.celery --loglevel=info\n",
    "```"
   ]
  },
  {
   "cell_type": "markdown",
   "metadata": {},
   "source": [
    "### Instalacja addona do Redisa\n",
    "```\n",
    "heroku addons:create heroku-redis -a nazwa_aplikacji\n",
    "```"
   ]
  },
  {
   "cell_type": "markdown",
   "metadata": {},
   "source": [
    "### requirements.txt\n",
    "\n",
    "```\n",
    "amqp==2.2.2\n",
    "billiard==3.5.0.3\n",
    "blinker==1.4\n",
    "celery==4.1.0\n",
    "certifi==2018.4.16\n",
    "chardet==3.0.4\n",
    "click==6.7\n",
    "Flask==0.12.2\n",
    "gunicorn==19.7.1\n",
    "idna==2.6\n",
    "itsdangerous==0.24\n",
    "Jinja2==2.10\n",
    "kombu==4.1.0\n",
    "MarkupSafe==1.0\n",
    "pytz==2018.4\n",
    "redis==2.10.6\n",
    "requests==2.18.4\n",
    "urllib3==1.22\n",
    "vine==1.1.4\n",
    "Werkzeug==0.14.1\n",
    "```"
   ]
  },
  {
   "cell_type": "markdown",
   "metadata": {},
   "source": [
    "### Nie działa?\n",
    "Po deployu może być wymagane ręczne włączenie dyna `worker`"
   ]
  },
  {
   "cell_type": "markdown",
   "metadata": {
    "slideshow": {
     "slide_type": "slide"
    }
   },
   "source": [
    "# Powtarzanie tasków\n",
    "- zdarzają się czasami sytuacje, w których nie udaje się wykonać taska i należy przełożyć go na później\n",
    "- służy do tego metoda __retry__ dostępna na obiekcie tasku"
   ]
  },
  {
   "cell_type": "markdown",
   "metadata": {
    "slideshow": {
     "slide_type": "subslide"
    }
   },
   "source": [
    "## Jak dobrać się do obiektu taska?\n",
    "- należy \"zbindować\" obiekt taska (`bind=True`), dzięki czemu jako pierwszy argument do funkcji zostanie przekazany obiekt taska\n",
    "```python\n",
    "@task(bind=True)\n",
    "def add(self, x, y):\n",
    "    logger.info(self.request.id)\n",
    "```"
   ]
  },
  {
   "cell_type": "markdown",
   "metadata": {
    "slideshow": {
     "slide_type": "subslide"
    }
   },
   "source": [
    "## task.retry()\n",
    "\n",
    "```python\n",
    "import random\n",
    "\n",
    "@app.task(bind=True)\n",
    "def fails_sometimes(self):\n",
    "    if random.random < 0.5:\n",
    "        self.retry()\n",
    "    return 'success'\n",
    "```\n",
    "\n",
    "- `Task.retry` pod spodem rzuca specjalny błąd typu `Retry`\n",
    "- możliwe jest nadpisanie domyślnych wartości odpowiedzialnych za powtarzanie tasków:\n",
    "```\n",
    "@app.task(bind=True, default_retry_delay=30, max_retries=5) \n",
    "```"
   ]
  },
  {
   "cell_type": "markdown",
   "metadata": {
    "slideshow": {
     "slide_type": "slide"
    }
   },
   "source": [
    "# Zapisywanie wyników wywołań poszczególnych tasków\n",
    "- należy zdefiniować w instancji __Celery__ `backend`, czyli określić w jakim miejscu chcemy przechowywać rezultaty tasków\n",
    "\n",
    "```python\n",
    "app = Celery('tasks', broker='redis://localhost', backend='redis://localhost')\n",
    "```\n",
    "- dzięki temu możemy dostawać się do wybiku wywołania taska\n",
    "\n",
    "```python\n",
    "task_result = add.delay(3, 4)\n",
    "print(task_result.result)  # wyświetla wynik taska\n",
    "\n",
    "result2 = add.delay(4, 5).get() # czeka na wynik i zwraca go\n",
    "```"
   ]
  },
  {
   "cell_type": "markdown",
   "metadata": {
    "slideshow": {
     "slide_type": "subslide"
    }
   },
   "source": [
    "Nie polecam korzystania z AsyncResult.get() - tracimy w ten sposób korzyść z asynchronicznego wykonywania zadania i wymuszmay wykonanie synchroniczne."
   ]
  },
  {
   "cell_type": "markdown",
   "metadata": {
    "slideshow": {
     "slide_type": "slide"
    }
   },
   "source": [
    "# Taski cykliczne \n",
    "- dzięki schedulerowi __celery beat__ można definiować cykliczne taski, tzn. takie, które mają wykonywać się np. co 30 sekund, w każdy czwartek o 17 itp.\n",
    "- ważne jest określenie strefy czasowej z jakiej ma korzystać __Scheduler__ (domyślnie __UTC__)\n",
    "\n",
    "```python\n",
    "timezone = 'Europe/Warsaw'\n",
    "```\n",
    "\n",
    "\n",
    "http://docs.celeryproject.org/en/latest/userguide/periodic-tasks.html"
   ]
  },
  {
   "cell_type": "markdown",
   "metadata": {
    "slideshow": {
     "slide_type": "subslide"
    }
   },
   "source": [
    "## Startowanie schedulera\n",
    "```bash\n",
    "celery -A module_name beat\n",
    "```\n",
    "\n",
    "- można także wystartowac __Schedulera__ razem z __Workerem__\n",
    "\n",
    "```bash\n",
    "celery -A module_name worker -B\n",
    "```\n",
    "\n",
    "- __Celery Beat__ zapisuje czasy ostatnich wywołań __Tasków__ w lokalnym pliku (domyślnie _celerybeat-schedule_), więc musi mieć możliwość zapisu w katalogu, w którym ma zapisywać ten plik\n",
    "\n",
    "- wybranie innej nazwy/ścieżki do pliku z historią:\n",
    "```bash\n",
    "celery -A module_name beat -s /different/directory/celerybeat-schedule\n",
    "```"
   ]
  },
  {
   "cell_type": "code",
   "execution_count": null,
   "metadata": {
    "slideshow": {
     "slide_type": "subslide"
    }
   },
   "outputs": [],
   "source": [
    "# Przyklad z http://docs.celeryproject.org/en/latest/userguide/periodic-tasks.html#entries\n",
    "from celery import Celery\n",
    "from celery.schedules import crontab\n",
    "\n",
    "app = Celery()\n",
    "\n",
    "@app.on_after_configure.connect\n",
    "def setup_periodic_tasks(sender, **kwargs):\n",
    "    # Calls test('hello') every 10 seconds.\n",
    "    sender.add_periodic_task(10.0, test.s('hello'), name='add every 10')\n",
    "\n",
    "    # Calls test('world') every 30 seconds\n",
    "    sender.add_periodic_task(30.0, test.s('world'), expires=10)\n",
    "\n",
    "    # Executes every Monday morning at 7:30 a.m.\n",
    "    sender.add_periodic_task(\n",
    "        crontab(hour=7, minute=30, day_of_week=1),\n",
    "        test.s('Happy Mondays!'),\n",
    "    )\n",
    "\n",
    "@app.task\n",
    "def test(arg):\n",
    "    print(arg)"
   ]
  },
  {
   "cell_type": "markdown",
   "metadata": {
    "slideshow": {
     "slide_type": "subslide"
    }
   },
   "source": [
    "Możliwe jest też definiowanie tasków w konfiguracji, np:\n",
    "\n",
    "```python\n",
    "# Przyklad z http://docs.celeryproject.org/en/latest/userguide/periodic-tasks.html#entries\n",
    "app.conf.beat_schedule = {\n",
    "    'add-every-30-seconds': {\n",
    "        'task': 'tasks.add',\n",
    "        'schedule': 30.0,\n",
    "        'args': (16, 16)\n",
    "    },\n",
    "}\n",
    "```"
   ]
  },
  {
   "cell_type": "markdown",
   "metadata": {
    "slideshow": {
     "slide_type": "slide"
    }
   },
   "source": [
    "# DZIĘKUJEMY!!!!\n",
    "\n",
    "https://medium.freecodecamp.org/python-collection-of-my-favorite-articles-8469b8455939"
   ]
  }
 ],
 "metadata": {
  "celltoolbar": "Slideshow",
  "kernelspec": {
   "display_name": "Python 3",
   "language": "python",
   "name": "python3"
  },
  "language_info": {
   "codemirror_mode": {
    "name": "ipython",
    "version": 3
   },
   "file_extension": ".py",
   "mimetype": "text/x-python",
   "name": "python",
   "nbconvert_exporter": "python",
   "pygments_lexer": "ipython3",
   "version": "3.6.1"
  }
 },
 "nbformat": 4,
 "nbformat_minor": 2
}
