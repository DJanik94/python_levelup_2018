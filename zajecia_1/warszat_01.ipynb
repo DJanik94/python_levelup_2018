{
 "cells": [
  {
   "cell_type": "markdown",
   "metadata": {
    "slideshow": {
     "slide_type": "slide"
    }
   },
   "source": [
    "![Logo kursu Python Level Up](https://raw.githubusercontent.com/daftcode/python_levelup_2018/master/logo.png)"
   ]
  },
  {
   "cell_type": "markdown",
   "metadata": {
    "slideshow": {
     "slide_type": "subslide"
    }
   },
   "source": [
    "![Struktura Grupy Daftcode](struktura-dc-01.png)"
   ]
  },
  {
   "cell_type": "markdown",
   "metadata": {
    "slideshow": {
     "slide_type": "subslide"
    }
   },
   "source": [
    "![Plan zajęć](https://raw.githubusercontent.com/daftcode/python_levelup_2018/master/plan_zajec.png)"
   ]
  },
  {
   "cell_type": "markdown",
   "metadata": {
    "slideshow": {
     "slide_type": "subslide"
    }
   },
   "source": [
    "# Ważne linki\n",
    "\n",
    "- Informacje organizacyjne: https://www.facebook.com/events/1552802084832333/\n",
    "- Materiały do kursu: https://github.com/daftcode/python_levelup_2018"
   ]
  },
  {
   "cell_type": "markdown",
   "metadata": {
    "slideshow": {
     "slide_type": "slide"
    }
   },
   "source": [
    "# Flask(a) dla każdego\n",
    "## Pierwsza aplikacja webowa\n",
    "### Jakub Szponder\n",
    "#### Python Level Up, 08.03.2018"
   ]
  },
  {
   "cell_type": "markdown",
   "metadata": {
    "slideshow": {
     "slide_type": "slide"
    }
   },
   "source": [
    "# Aplikacja webowa\n",
    "- aplikacja działająca w modelu klient-serwer\n",
    "- klient: najczęściej przeglądarka (ale może to być też np. inna aplikacja)\n",
    "- serwer: serwer aplikacji webowej, który nasłuchuje na połączenia na wybranych portach (zazwyczaj 80 lub 443)\n",
    "- klient z serwerem komunikują się za pomocą protokołu HTTP"
   ]
  },
  {
   "cell_type": "markdown",
   "metadata": {
    "slideshow": {
     "slide_type": "slide"
    }
   },
   "source": [
    "# Protokół HTTP\n",
    "- połączenie inicjowane przez klienta\n",
    "- bezstanowe\n",
    "- korzysta z protokołu TCP"
   ]
  },
  {
   "cell_type": "markdown",
   "metadata": {
    "slideshow": {
     "slide_type": "subslide"
    }
   },
   "source": [
    "## Request HTTP\n",
    "```\n",
    "METODA URL WERSJA_HTTP\n",
    "<0 lub więcej> NAGŁÓWKI <w postaci NAZWA_NAGŁÓWKA: WARTOŚĆ>\n",
    "<pusta linia>\n",
    "<opcjonalna> TREŚĆ_ZAPYTANIA\n",
    "```"
   ]
  },
  {
   "cell_type": "markdown",
   "metadata": {
    "slideshow": {
     "slide_type": "subslide"
    }
   },
   "source": [
    "### (Najważniejsze) Metody HTTP\n",
    "- **GET** - pobranie zasobu\n",
    "- **POST** - przesyłanie danych od klienta do serwera, najczęściej służy do stworzenia zasobu\n",
    "- DELETE - żądanie usunięcia zasobu\n",
    "- PUT - przesyłanie danych od klienta do serwera, najczęściej służy do zastąpienia istniejącego zasobu\n",
    "- PATCH - przesyłanie danych od klienta do serwera, najczęściej służy do częściowej aktualizacji istniejącego zasobu"
   ]
  },
  {
   "cell_type": "markdown",
   "metadata": {
    "slideshow": {
     "slide_type": "subslide"
    }
   },
   "source": [
    "### Pozostałe metody HTTP\n",
    "- HEAD - pobranie nagłówków dla danego zasobu\n",
    "- OPTIONS - żądanie informacji o metodach dostępnych dla danego zasobu\n",
    "- CONNECT - wykorzystane w trakcie tunelowania z użyciem serwerów pośredniczących\n",
    "- TRACE - służy do diagnostyki"
   ]
  },
  {
   "cell_type": "markdown",
   "metadata": {
    "slideshow": {
     "slide_type": "subslide"
    }
   },
   "source": [
    "### URL\n",
    "ścieżka do zasobu, w formacie:\n",
    "```\n",
    "scheme:[//[user[:password]@]host[:port]][/path][?query][#fragment]\n",
    "```\n",
    "\n",
    "Przykład\n",
    "```\n",
    "pełen adres: https://pl.wikipedia.org/wiki/Hypertext_Transfer_Protocol\n",
    "adres serwera: https://pl.wikipedia.org\n",
    "ścieżka do zasobu: /wiki/Hypertext_Transfer_Protocol\n",
    "```\n",
    "\n",
    "https://en.wikipedia.org/wiki/URL"
   ]
  },
  {
   "cell_type": "markdown",
   "metadata": {
    "slideshow": {
     "slide_type": "subslide"
    }
   },
   "source": [
    "### Wersja HTTP\n",
    "- HTTP/0.9 (rok 1991)\n",
    "- HTTP/1.0 (rok 1996)\n",
    "- HTTP/1.1 (rok 1997)\n",
    "- HTTP/2.0 (rok 2015)"
   ]
  },
  {
   "cell_type": "markdown",
   "metadata": {
    "slideshow": {
     "slide_type": "subslide"
    }
   },
   "source": [
    "### Nagłówki HTTP\n",
    "- Host\n",
    "- User-Agent\n",
    "- Content-Type\n",
    "- Cookie\n",
    "\n",
    "więcej: https://pl.wikipedia.org/wiki/Lista_nag%C5%82%C3%B3wk%C3%B3w_HTTP"
   ]
  },
  {
   "cell_type": "markdown",
   "metadata": {
    "slideshow": {
     "slide_type": "subslide"
    }
   },
   "source": [
    "### Przykładowe requesty HTTP\n",
    "\n",
    "GET:\n",
    "```\n",
    "GET /hello.htm HTTP/1.1\n",
    "User-Agent: Mozilla/4.0 (compatible; MSIE5.01; Windows NT)\n",
    "Host: www.tutorialspoint.com\n",
    "Accept-Language: en-us\n",
    "Accept-Encoding: gzip, deflate\n",
    "Connection: Keep-Alive\n",
    "```\n",
    "\n",
    "POST:\n",
    "```\n",
    "POST /cgi-bin/process.cgi HTTP/1.1\n",
    "User-Agent: Mozilla/4.0 (compatible; MSIE5.01; Windows NT)\n",
    "Host: www.tutorialspoint.com\n",
    "Content-Type: application/x-www-form-urlencoded\n",
    "Content-Length: 49\n",
    "Accept-Language: en-us\n",
    "Accept-Encoding: gzip, deflate\n",
    "Connection: Keep-Alive\n",
    "\n",
    "licenseID=string&content=string&/paramsXML=string\n",
    "```\n"
   ]
  },
  {
   "cell_type": "markdown",
   "metadata": {
    "slideshow": {
     "slide_type": "subslide"
    }
   },
   "source": [
    "## Response HTTP\n",
    "```\n",
    "WERSJA_HTTP STATUS_HTTP OPIS_STATUSU\n",
    "<0 lub więcej> NAGŁÓWKI <w postaci NAZWA_NAGŁÓWKA: WARTOŚĆ>\n",
    "<pusta linia>\n",
    "<opcjonalna> TREŚĆ_ODPOWIEDZI\n",
    "```"
   ]
  },
  {
   "cell_type": "markdown",
   "metadata": {
    "slideshow": {
     "slide_type": "subslide"
    }
   },
   "source": [
    "### Grupy statusów HTTP (i przykładowe statusy)\n",
    "#### 1XX - informacyjne\n",
    "#### 2XX - sukces\n",
    "- 200 OK\n",
    "\n",
    "#### 3XX - przekierowanie\n",
    "- 301 Moved Permanently\n",
    "- 302 Found\n",
    "\n",
    "#### 4XX - błąd klienta\n",
    "- 400 Bad Request\n",
    "- 401 Unauthorized\n",
    "- 403 Forbidden\n",
    "- 404 Not Found\n",
    "\n",
    "#### 5XX - błąd serwera\n",
    "- 500 Internal Server Error\n",
    "- 503 Service Unavailable"
   ]
  },
  {
   "cell_type": "markdown",
   "metadata": {
    "slideshow": {
     "slide_type": "subslide"
    }
   },
   "source": [
    "### Przykładowe odpowiedzi HTTP\n",
    "Sukces:\n",
    "```\n",
    "HTTP/1.1 200 OK\n",
    "Date: Mon, 27 Jul 2009 12:28:53 GMT\n",
    "Server: Apache/2.2.14 (Win32)\n",
    "Last-Modified: Wed, 22 Jul 2009 19:15:56 GMT\n",
    "Content-Length: 88\n",
    "Content-Type: text/html\n",
    "Connection: Closed\n",
    "\n",
    "<html>\n",
    "<body>\n",
    "<h1>Hello, World!</h1>\n",
    "</body>\n",
    "</html>\n",
    "```\n",
    "\n",
    "Błąd:\n",
    "```\n",
    "HTTP/1.1 404 Not Found\n",
    "Date: Sun, 18 Oct 2012 10:36:20 GMT\n",
    "Server: Apache/2.2.14 (Win32)\n",
    "Content-Length: 230\n",
    "Connection: Closed\n",
    "Content-Type: text/html; charset=iso-8859-1\n",
    "```"
   ]
  },
  {
   "cell_type": "markdown",
   "metadata": {
    "slideshow": {
     "slide_type": "subslide"
    }
   },
   "source": [
    "# HTTPS\n",
    "- szyfrowana wersja HTTP\n",
    "- szyfruje dane przy pomocy protokołu TLS\n",
    "- zapobiega przechwytywaniu i zmienianiu danych\n",
    "- wywołanie protokołu zaczyna się od `https://`\n",
    "- przeglądarki pokazują nam kłódki"
   ]
  },
  {
   "cell_type": "markdown",
   "metadata": {
    "slideshow": {
     "slide_type": "slide"
    }
   },
   "source": [
    "# Framework do aplikacji webowych\n",
    "- framework ułatwiający tworzenie aplikacji internetowych\n",
    "- daje narzędzia do obsługi **routingu** i **templatingu**\n",
    "- dzięki użyciu frameworku NIE MUSIMY za każdym razem wymyślać koła na nowo"
   ]
  },
  {
   "cell_type": "markdown",
   "metadata": {
    "slideshow": {
     "slide_type": "subslide"
    }
   },
   "source": [
    "## Routing\n",
    "- mapowanie odpowiedniego URLa zasobu na funkcję, która powinna obsłużyć żądanie\n",
    "- łatwy sposób na określenie, że za obsłużenie żądania dla URL `/hello` odpowiedzialna jest funkcja `hello()`"
   ]
  },
  {
   "cell_type": "markdown",
   "metadata": {
    "slideshow": {
     "slide_type": "subslide"
    }
   },
   "source": [
    "## Templating\n",
    "- ułatwienie generowania dynamicznych szablonów HTML"
   ]
  },
  {
   "cell_type": "markdown",
   "metadata": {
    "slideshow": {
     "slide_type": "subslide"
    }
   },
   "source": [
    "## Pythonowe frameworki\n",
    "- Django\n",
    "- Pyramid\n",
    "- Flask\n",
    "- i wiele innych\n",
    "\n",
    "https://www.airpair.com/python/posts/django-flask-pyramid"
   ]
  },
  {
   "cell_type": "markdown",
   "metadata": {
    "slideshow": {
     "slide_type": "subslide"
    }
   },
   "source": [
    "## Flask\n",
    "- ułatwia **routing** i **templating**\n",
    "- minimalna aplikacja to kilka linijek\n",
    "- prawie nic nie narzuca (daje możliwość wyboru odpowiednich narzędzi przez programistę)\n",
    "- w przeciwieństwie do np. Django, które daje bardzo dużo, ale też podejmuje wiele decyzji za programistę (np. wybór ORM)"
   ]
  },
  {
   "cell_type": "markdown",
   "metadata": {
    "slideshow": {
     "slide_type": "slide"
    }
   },
   "source": [
    "# Instalacja Flaska\n",
    "Stworzenie virtualenva\n",
    "```\n",
    "python3.6 -m venv level_up_env\n",
    "```\n",
    "Aktywowanie virtualenva Linux/Mac\n",
    "```\n",
    "source level_up_env/bin/activate\n",
    "```\n",
    "Aktywowanie virtualenva Windows\n",
    "```\n",
    "level_up_env\\Scripts\\activate.bat\n",
    "```\n",
    "Instalacja Flaska\n",
    "\n",
    "```\n",
    "pip install Flask\n",
    "```"
   ]
  },
  {
   "cell_type": "markdown",
   "metadata": {
    "slideshow": {
     "slide_type": "slide"
    }
   },
   "source": [
    "# Pierwsza aplikacja we Flasku"
   ]
  },
  {
   "cell_type": "code",
   "execution_count": null,
   "metadata": {
    "slideshow": {
     "slide_type": "subslide"
    }
   },
   "outputs": [],
   "source": [
    "# app.py\n",
    "from flask import Flask\n",
    "app = Flask(__name__)\n",
    "\n",
    "\n",
    "@app.route('/')\n",
    "def hello():\n",
    "    return 'Hello!'\n",
    "\n",
    "\n",
    "if __name__ == '__main__':\n",
    "    app.run(debug=True)"
   ]
  },
  {
   "cell_type": "markdown",
   "metadata": {
    "slideshow": {
     "slide_type": "fragment"
    }
   },
   "source": [
    "- Flask(`NAME`) tworzy obiekt aplikacji o nazwie `NAME`\n",
    "- dekorator @app.route(`ROUTE_NAME`) nad funkcją określa, że funkcja ta jest odpowiedzialna za obsługę requestów na URL `ROUTE_NAME`\n",
    "- funkcja widoku zwraca body responsu\n",
    "- `app.run()` startuje aplikację - nasłuchuje ona domyślnie na porcie 5000\n",
    "- uruchomienie aplikacji w trybie debug (`app.run(debug=True)`) powoduje, że aplikacja przeładowuje się po wykryciu zmian w plikach"
   ]
  },
  {
   "cell_type": "markdown",
   "metadata": {
    "slideshow": {
     "slide_type": "subslide"
    }
   },
   "source": [
    "## Startowanie aplikacji\n",
    "```\n",
    "python app.py\n",
    "```"
   ]
  },
  {
   "cell_type": "markdown",
   "metadata": {
    "slideshow": {
     "slide_type": "fragment"
    }
   },
   "source": [
    "```\n",
    "* Running on http://127.0.0.1:5000/ (Press CTRL+C to quit)\n",
    "```"
   ]
  },
  {
   "cell_type": "markdown",
   "metadata": {
    "slideshow": {
     "slide_type": "subslide"
    }
   },
   "source": [
    "## Obiekt request\n",
    "- Funkcje widoków uruchamiane są w kontekście requestu\n",
    "- by uzyskać dostęp do obiektu requestu, należy odwołać się do `flask.request`\n",
    "- obiekt **request** zawiera wszystkie podstawowe informacje o requeście - metodę, url, body, headery itd.\n",
    "- Więcej: http://werkzeug.pocoo.org/docs/0.14/wrappers/#werkzeug.wrappers.BaseRequest"
   ]
  },
  {
   "cell_type": "code",
   "execution_count": null,
   "metadata": {
    "slideshow": {
     "slide_type": "subslide"
    }
   },
   "outputs": [],
   "source": [
    "# app.py\n",
    "from flask import request\n",
    "\n",
    "\n",
    "@app.route('/request')\n",
    "def request_info():\n",
    "    return f'request method: {request.method} url: {request.url} headers: {request.headers}'"
   ]
  },
  {
   "cell_type": "markdown",
   "metadata": {
    "slideshow": {
     "slide_type": "slide"
    }
   },
   "source": [
    "# Deploy!\n",
    "- aplikację wrzucamy na serwer **Heroku**\n",
    "- do wrzucenia kodu korzystamy z systemu kontroli wersji **Git**\n",
    "- żeby aplikacja pythonowa działała na serwerze, potrzebny jest serwer **WSGI**\n",
    "- serwerem WSGI z którego skorzystamy jest **Gunicorn**\n",
    "- żeby zainstalować odpowiednie zależności na serwerze potrzebujemy pliku **requirements.txt**"
   ]
  },
  {
   "cell_type": "markdown",
   "metadata": {
    "slideshow": {
     "slide_type": "slide"
    }
   },
   "source": [
    "## Serwer wbudowany Flaska\n",
    "*While lightweight and easy to use, Flask’s built-in server is not suitable for production as it doesn’t scale well and by default serves only one request at a time*\n",
    "- bardzo wolny\n",
    "- potrafi obsługiwać jednocześnie tylko jeden request\n",
    "\n",
    "Więcej: http://flask.pocoo.org/docs/0.12/deploying/"
   ]
  },
  {
   "cell_type": "markdown",
   "metadata": {
    "slideshow": {
     "slide_type": "slide"
    }
   },
   "source": [
    "## Heroku\n",
    "- *container-based cloud Platform as a Service (PaaS)*\n",
    "- usługa umożliwiająca udostępnienie aplikacji webowej bez martwienia się infrastrukturą\n",
    "- udostępnia bardzo wygodny sposób deployowania\n",
    "- umożliwia darmowe deployowanie aplikacji\n",
    "\n",
    "Więcej: https://www.heroku.com/"
   ]
  },
  {
   "cell_type": "markdown",
   "metadata": {
    "slideshow": {
     "slide_type": "slide"
    }
   },
   "source": [
    "## Git\n",
    "- **Git** to **rozproszony system kontroli wersji**\n",
    "- stworzony w 2005 roku przez Linusa Torvaldsa"
   ]
  },
  {
   "cell_type": "markdown",
   "metadata": {
    "slideshow": {
     "slide_type": "subslide"
    }
   },
   "source": [
    "### System kontroli wersji\n",
    "- system, który śledzi zmiany dokonywane na plikach i umożliwia powracanie do dowolnej wcześniejszej wersji\n",
    "- zapisuje kto, kiedy i jakie wprowadził zmiany\n",
    "- pozwala odwrócić zmiany, które coś popsuły\n",
    "- ułatwia pracę w wiele osób nad jednym projektem"
   ]
  },
  {
   "cell_type": "markdown",
   "metadata": {
    "slideshow": {
     "slide_type": "subslide"
    }
   },
   "source": [
    "### Rozproszony system kontroli wersji\n",
    "- każdy klient trzyma całą historię\n",
    "- w przypadku awarii jednego z serwerów, repozytorium dowolnego klienta może je zastąpić\n",
    "- możliwa jest praca z kilkoma serwerami zdalnymi"
   ]
  },
  {
   "cell_type": "markdown",
   "metadata": {
    "slideshow": {
     "slide_type": "subslide"
    }
   },
   "source": [
    "### Zalety gita\n",
    "- szybkość - większość operacji wykonywana lokalnie\n",
    "- wydajność w trakcie pracy z dużymi projektami\n",
    "- wspiera rozgałęzienia w historii rozwoju projektu"
   ]
  },
  {
   "cell_type": "markdown",
   "metadata": {
    "slideshow": {
     "slide_type": "subslide"
    }
   },
   "source": [
    "### Instalacja gita\n",
    "- dobrze opisane w tutorialu Django Girls: https://tutorial.djangogirls.org/en/deploy/#installing-git"
   ]
  },
  {
   "cell_type": "markdown",
   "metadata": {
    "slideshow": {
     "slide_type": "subslide"
    }
   },
   "source": [
    "### Podstawowe komendy\n",
    "\n",
    "#### tworzenie nowego repozytorium\n",
    "- `git init` - tworzy nowe repozytorium\n",
    "\n",
    "#### tworzenie kopii istniejącego repozytorium\n",
    "- `git clone /path/to/repository` - kopiowanie lokalnego repozytorium\n",
    "- `git clone username@host:/path/to/repository` - kopiowanie zdalnego repozytorium\n",
    "\n",
    "#### dodawanie zmian\n",
    "- `git add path/to/file` - dodanie pliku do zbioru zmian, które mają zostać zatwierdzone (**staged changes**)\n",
    "- `git commit -m \"Commit message\"` - zatwierdzenie **staged changes** i dodanie ich do repozytorium\n",
    "\n",
    "#### sprawdzanie statusu plików w repozytorium\n",
    "- `git status` - wyświetla status poszczególnych plików w repozytorium\n",
    "- `git diff` - wyświetlenie jakie zmiany zostały dokonane i nie zostały jeszcze dodane do **staged changes**\n",
    "\n",
    "#### wysyłanie zmian na zdalny serwer\n",
    "- `git push remote_server_name master` - wypchnięcie zmian z brancha **master** na serwer **remote_server_name**\n",
    "\n",
    "#### pobieranie zmian ze zdalnego repozytorium\n",
    "- `git pull` - ściągnięcie zmian ze zdalnego repozytorium i połączenie ich z lokalnymi zmianami"
   ]
  },
  {
   "cell_type": "markdown",
   "metadata": {
    "slideshow": {
     "slide_type": "subslide"
    }
   },
   "source": [
    "### Więcej o Gicie\n",
    "- http://rogerdudler.github.io/git-guide/ - krótko o podstawowych komendach (trochę więcej niż tutaj)\n",
    "- https://git-scm.com/book/pl/v1/Pierwsze-kroki lub https://git-scm.com/book/en/v2/Getting-Started-About-Version-Control - dokładniejszy opis działania\n",
    "- https://try.github.io - interaktywny tutorial"
   ]
  },
  {
   "cell_type": "markdown",
   "metadata": {
    "slideshow": {
     "slide_type": "slide"
    }
   },
   "source": [
    "## WSGI\n",
    "- *Web Server Gateway Interface*\n",
    "- specyfikacja, która określa, w jaki sposób aplikacje web serwery mają się komunikować z aplikacjami\n",
    "- standard w Pythonie, opisany w PEP 3333: https://www.python.org/dev/peps/pep-3333/\n",
    "- frameworki webowe w Pythonie są zgodne z tą specyfikacją\n",
    "\n",
    "Więcej: http://wsgi.readthedocs.io/en/latest/"
   ]
  },
  {
   "cell_type": "markdown",
   "metadata": {
    "slideshow": {
     "slide_type": "slide"
    }
   },
   "source": [
    "## Gunicorn\n",
    "- jedna z wielu implementacji serwera **WSGI**\n",
    "- instalacja:\n",
    "```\n",
    "pip install gunicorn\n",
    "```\n",
    "- uruchamianie aplikacji z użyciem gunicorna za pomocą jednej komendy\n",
    "```\n",
    "gunicorn app:app\n",
    "```\n",
    "- możliwe jest też uruchamianie aplikacji z użyciem gunicorna za pomocą pliku **Procfile**\n",
    "- **Gunicorn** ma wiele konfigurowalnych opcji. M.in. można zdefiniować liczbę workerów, która ma zostać uruchomiona (domyślnie na **Heroku** to dwa)\n",
    "\n",
    "Więcej: http://gunicorn.org/#docs"
   ]
  },
  {
   "cell_type": "markdown",
   "metadata": {
    "slideshow": {
     "slide_type": "slide"
    }
   },
   "source": [
    "### Procfile\n",
    "- Plik określający w jaki sposób ma być uruchomiona nasza aplikacja\n",
    "- **Heroku** korzysta z niego do serwowania aplikacji\n",
    "- **Procfile** dla naszej aplikacji:\n",
    "```\n",
    "web: gunicorn app:app\n",
    "```\n",
    "- Plik ten definiuje jeden proces, o nazwie *web* i komendę, która ma być dla niego wykonana\n",
    "- Na podstawie nazwy *web* **Heroku** wie, że jest to proces, który będzie nasłuchiwał na requesty **HTTP**"
   ]
  },
  {
   "cell_type": "markdown",
   "metadata": {
    "slideshow": {
     "slide_type": "slide"
    }
   },
   "source": [
    "### requirements.txt\n",
    "- plik zawierający listę zależności, które należy zainstalować przy użyciu komendy **pip install**\n",
    "- instalowanie zależności na podstawie pliku **requirements.txt**:\n",
    "```\n",
    "pip install -r requirements.txt\n",
    "```\n",
    "- tworzenie pliku **requirements.txt** na podstawie aktualnego środowiska:\n",
    "```\n",
    "pip freeze > requirements.txt\n",
    "```\n",
    "- `pip freeze` to komenda, która zwraca listę zależności zainstalowanych w aktualnym virtualenvie\n",
    "- **requirements.txt** powinien zawierać dokładnie określone wersje wszystkich zależności\n",
    "- dzięki temu \"na produkcji\" będą te same wersje zależności, na których testowaliśmy aplikację lokalnie\n",
    "- przydaje się też, gdy wiele osób pracuje nad jednym projektem"
   ]
  },
  {
   "cell_type": "markdown",
   "metadata": {
    "slideshow": {
     "slide_type": "slide"
    }
   },
   "source": [
    "## Instrukcja deployu na Heroku\n",
    "1. Załóż konto na **Heroku**: https://signup.heroku.com\n",
    "2. Stwórz nową aplikację. Nadaj jej nazwę, wybierz region Europa\n",
    "3. Wybierz metodę deployu: **Heroku Git**\n",
    "4. Pobierz **Heroku CLI**\n",
    "5. Zainstaluj **Gunicorna** `pip install gunicorn`\n",
    "6. Stwórz plik **requirements.txt**: `pip freeze > requirements.txt`\n",
    "7. Dodaj plik **Procfile** o treści `web: gunicorn app:app`\n",
    "8. Zaloguj się do **Heroku CLI** `heroku login`\n",
    "9. Stwórz repozytorium git `git init`\n",
    "10. Dodaj zdalny serwer `heroku git:remote -a NAZWA-APLIKACJI`\n",
    "11. Dodaj pliki do git `git add Procfile app.py requirements.txt`\n",
    "12. Zatwierdź dodane zmiany `git commit -m 'My first deploy'`\n",
    "13. Wypchnij zmiay na serwer heroku `git push heroku master`\n",
    "14. Wejdż na https://NAZWA-APLIKACJI.herokuapp.com/"
   ]
  },
  {
   "cell_type": "markdown",
   "metadata": {
    "slideshow": {
     "slide_type": "slide"
    }
   },
   "source": [
    "# Jest zadanie domowe ;)"
   ]
  }
 ],
 "metadata": {
  "celltoolbar": "Slideshow",
  "kernelspec": {
   "display_name": "Python 3",
   "language": "python",
   "name": "python3"
  },
  "language_info": {
   "codemirror_mode": {
    "name": "ipython",
    "version": 3
   },
   "file_extension": ".py",
   "mimetype": "text/x-python",
   "name": "python",
   "nbconvert_exporter": "python",
   "pygments_lexer": "ipython3",
   "version": "3.6.1"
  }
 },
 "nbformat": 4,
 "nbformat_minor": 2
}
