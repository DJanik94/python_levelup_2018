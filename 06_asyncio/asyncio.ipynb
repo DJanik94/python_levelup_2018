{
 "cells": [
  {
   "cell_type": "markdown",
   "metadata": {
    "slideshow": {
     "slide_type": "slide"
    }
   },
   "source": [
    "# W pętli zdarzeń - Asyncio\n",
    "\n",
    "### Marcin Markiewicz\n",
    "### 12.IV.2018, Python Level UP"
   ]
  },
  {
   "cell_type": "markdown",
   "metadata": {
    "slideshow": {
     "slide_type": "subslide"
    }
   },
   "source": [
    "![Logo kursu Python Level Up](https://raw.githubusercontent.com/daftcode/python_levelup_2018/master/logo.png)"
   ]
  },
  {
   "cell_type": "markdown",
   "metadata": {
    "slideshow": {
     "slide_type": "subslide"
    }
   },
   "source": [
    "![Plan zajęć](https://raw.githubusercontent.com/daftcode/python_levelup_2018/master/plan_zajec.png)"
   ]
  },
  {
   "cell_type": "markdown",
   "metadata": {
    "slideshow": {
     "slide_type": "slide"
    }
   },
   "source": [
    "# Programowanie asyncio - po co to komu?"
   ]
  },
  {
   "cell_type": "markdown",
   "metadata": {
    "slideshow": {
     "slide_type": "subslide"
    }
   },
   "source": [
    "## Pytanie: jeśli teraz modne jest programowanie asynchroniczne, to co robiliśmy do tej pory?\n",
    "\n",
    "Trzeba sobie zdać sprawę z tego, że procesory są bardzo szybkie. Dane wewnątrz struktur procesora przetwarzają się o rząd wielkości szybciej niż w pamięci ram. Dostęp do świata zewnętrzenego, dyski (nawet ssd), sieć, to są kolejne rzędy wielkości wolniej. W związku z tym, w programach, które komunikują się z siecią, procesor głównie czeka (idle time). "
   ]
  },
  {
   "cell_type": "markdown",
   "metadata": {
    "slideshow": {
     "slide_type": "subslide"
    }
   },
   "source": [
    "## Jak odzyskać stracony czas\n",
    "\n",
    "Stracony czas (oczekiwanie na synchronizację danych) można odzyskać. Możemy użyć \"klasycznych\" rozwiązań, czyli wielowątkowości lub wieloprocesowosći. Jednak te technologie wiążą się ze stosunkowo dużym kosztem przełączania procesów (switching context). Problem ten wzrasta wraz z obciążeniem systemu. Przy dużej ilości procesów, zaczyna być kosztowny, a także może stanowić główny czas pracy programu. "
   ]
  },
  {
   "cell_type": "markdown",
   "metadata": {
    "slideshow": {
     "slide_type": "subslide"
    }
   },
   "source": [
    "Rozwiązaniem problemu przełączania jest eliminacja przełączania procesów. Ideą programowania asynchronicznego jest cykliczne wywoływanie procedur w pętli zdarzeń. W jednym procesie, bez narzutu związanego z przełączaniem procesów."
   ]
  },
  {
   "cell_type": "markdown",
   "metadata": {
    "slideshow": {
     "slide_type": "subslide"
    }
   },
   "source": [
    "Asynchroniczność jest wspierana bezpośrednio przez kernel linuxowy. AIO (Asynchronous I/O) jest to api pozawalające na operacje wyjścia/wejścia bez blokowania na czas oczekiwania na dane. Zamiast tego, proces może kontynuować pracę, i sprawdzić za jakiś czas czy są dostępne wyniki operacji. \n",
    "\n",
    "Link dla zainteresowanych:\n",
    "- https://oxnz.github.io/2016/10/13/linux-aio/\n",
    "- https://www.ibm.com/developerworks/linux/library/l-async/"
   ]
  },
  {
   "cell_type": "markdown",
   "metadata": {
    "slideshow": {
     "slide_type": "slide"
    }
   },
   "source": [
    "# Jak to robi Python"
   ]
  },
  {
   "cell_type": "markdown",
   "metadata": {
    "slideshow": {
     "slide_type": "subslide"
    }
   },
   "source": [
    "## Asyncio\n",
    "\n",
    "Moduł asyncio jest implementacją asynchronicznych operacji wyjścia/wejścia. Oryginalnie moduł ten był zaimplementowany poprzez wykorzystanie generatorów (`yield` i `yield from`). Obecnie (Python 3.5+) są dedykowane słowa kluczowe takie jak: `await` i `async`. "
   ]
  },
  {
   "cell_type": "markdown",
   "metadata": {
    "slideshow": {
     "slide_type": "subslide"
    }
   },
   "source": [
    "## W pętli zdarzeń\n",
    "\n",
    "EventLoop jest podstawowym konceptem asynchronicznego programowania. Jest to pętla zdarzeń. Czyli cyklicznie wywoływanych `korutyn`. Pomysł ten przypomina spotkanie tematyczne grupy ludzi, w którym może odzywać się tylko ta osoba, która ma `token`. Przkazanie tokenu następuje tylko w miejscach umiesczenia `await` w kodzie programu. Jest to zgoła inna koncepcja od programowania klasycznych wątków/procesów, gdzie przełączanie następuje w dowolnym miejscu kodu pythonowego, programista nie wie gdzie ono nastąpi.\n"
   ]
  },
  {
   "cell_type": "markdown",
   "metadata": {
    "slideshow": {
     "slide_type": "slide"
    }
   },
   "source": [
    "## Przykład"
   ]
  },
  {
   "cell_type": "markdown",
   "metadata": {
    "slideshow": {
     "slide_type": "subslide"
    }
   },
   "source": [
    "Zróbmy AB test pobierania danych z serwera http. Użyjemy strony http://httpbin.org. Dla pełnego efektu potrzebujemy odpowiedzi serwera, która jest stosunkowo długa. http://httpbin.org/delay/1 generuje odpowiedź serwera która jest generowana przez około 1s "
   ]
  },
  {
   "cell_type": "markdown",
   "metadata": {
    "slideshow": {
     "slide_type": "subslide"
    }
   },
   "source": [
    "## Klasyczny request\n",
    "\n",
    "```python\n",
    "import requests\n",
    "import time\n",
    "\n",
    "def make_sync_requests(max, url):\n",
    "    print('Sync requests')\n",
    "    start_time = time.time()\n",
    "\n",
    "    response = []\n",
    "    for i in range(0, max):\n",
    "        requests.get(url)\n",
    "        response.append(i)\n",
    "\n",
    "    print(response)\n",
    "    execution_time = time.time() - start_time\n",
    "    print(f'execution time: {execution_time}s')\n",
    "```\n"
   ]
  },
  {
   "cell_type": "markdown",
   "metadata": {
    "slideshow": {
     "slide_type": "subslide"
    }
   },
   "source": [
    "## Asynchroniczny request\n",
    "\n",
    "```python\n",
    "import asyncio\n",
    "import time\n",
    "\n",
    "from aiohttp import ClientSession\n",
    "\n",
    "async def make_asyncio_request(url, index, session):\n",
    "    async with session.get(url) as response:\n",
    "        return index\n",
    "\n",
    "async def make_asyncio_requests(max, url):\n",
    "    print('Asyncio requests')\n",
    "    start_time = time.time()\n",
    "    async with ClientSession() as session:\n",
    "        tasks = [make_asyncio_request(url, index, session) for index in range(0, max)]\n",
    "        responses = await asyncio.gather(*tasks)\n",
    "    print(responses)\n",
    "    execution_time = time.time() - start_time\n",
    "    print(f'execution time: {execution_time}s')\n",
    "```"
   ]
  },
  {
   "cell_type": "markdown",
   "metadata": {
    "slideshow": {
     "slide_type": "subslide"
    }
   },
   "source": [
    "# Przykład użycia asyncpg\n",
    "\n",
    "```python\n",
    "import asyncio\n",
    "import asyncpg\n",
    "import datetime\n",
    "\n",
    "async def main():\n",
    "    # Establish a connection to an existing database named \"test\"\n",
    "    # as a \"postgres\" user.\n",
    "    conn = await asyncpg.connect('postgresql://postgres@localhost/test')\n",
    "    # Execute a statement to create a new table.\n",
    "    await conn.execute('''CREATE TABLE users(id serial PRIMARY KEY,name text,dob date)''')\n",
    "    # Insert a record into the created table.\n",
    "    await conn.execute('''INSERT INTO users(name, dob) VALUES($1, $2)''', 'Bob', datetime.date(1984, 3, 1))\n",
    "    # Select a row from the table.\n",
    "    row = await conn.fetchrow('SELECT * FROM users WHERE name = $1', 'Bob')\n",
    "    # *row* now contains\n",
    "    # asyncpg.Record(id=1, name='Bob', dob=datetime.date(1984, 3, 1))\n",
    "    # Close the connection.\n",
    "    await conn.close()\n",
    "    \n",
    "asyncio.get_event_loop().run_until_complete(main())\n",
    "```\n"
   ]
  },
  {
   "cell_type": "markdown",
   "metadata": {
    "slideshow": {
     "slide_type": "slide"
    }
   },
   "source": [
    "# Od czego zacząć przygodę z asyncio"
   ]
  },
  {
   "cell_type": "markdown",
   "metadata": {
    "slideshow": {
     "slide_type": "subslide"
    }
   },
   "source": [
    "## Jak uruchomić korutynę\n",
    "\n",
    "```python\n",
    "import asyncio\n",
    "\n",
    "async def main():\n",
    "    await asyncio.sleep(10)\n",
    "\n",
    "asyncio.get_event_loop().run_until_complete(main())   \n",
    "```"
   ]
  },
  {
   "cell_type": "markdown",
   "metadata": {
    "slideshow": {
     "slide_type": "subslide"
    }
   },
   "source": [
    "## Uruchomienie wielu korutyn i czekanie na ich rezultaty\n",
    "\n",
    "```python\n",
    "import asyncio\n",
    "\n",
    "async def important_task(index):\n",
    "    await asyncio.sleep(10)\n",
    "    return index\n",
    "\n",
    "async def run():\n",
    "    tasks = [\n",
    "        important_task(index)\n",
    "        for index in range(0, 10)\n",
    "    ]\n",
    "    print(await asyncio.gather(*tasks))\n",
    "\n",
    "asyncio.get_event_loop().run_until_complete(run())\n",
    "```\n",
    "**Results:**\n",
    "```python\n",
    "[1, 2, 3, 4, 5, 6, 7, 8, 9, 10]\n",
    "```\n"
   ]
  },
  {
   "cell_type": "markdown",
   "metadata": {
    "slideshow": {
     "slide_type": "subslide"
    }
   },
   "source": [
    "## Uruchomienie wielu korutyn i wykorzystanie ich rezultatów jak tylko to możliwe\n",
    "\n",
    "\n",
    "```python\n",
    "import asyncio\n",
    "\n",
    "async def important_task(index):\n",
    "    await asyncio.sleep(index)\n",
    "    return index\n",
    "\n",
    "async def run():\n",
    "    tasks = [important_task(index) for index in range(10, 0, -1)]\n",
    "    results = []\n",
    "    for future in asyncio.as_completed(tasks):\n",
    "        result = await future\n",
    "        results.append(result)\n",
    "    print(results)\n",
    "\n",
    "asyncio.get_event_loop().run_until_complete(run())\n",
    "```\n",
    "\n",
    "**Results:**\n",
    "```python\n",
    "[1, 2, 3, 4, 5, 6, 7, 8, 9, 10]\n",
    "```\n",
    "\n"
   ]
  },
  {
   "cell_type": "markdown",
   "metadata": {
    "slideshow": {
     "slide_type": "subslide"
    }
   },
   "source": [
    "# Rekursywne tworzenie tasków\n",
    "\n",
    "```python\n",
    "import asyncio\n",
    "\n",
    "async def important_task(index):\n",
    "    await asyncio.sleep(1)\n",
    "    print(index)\n",
    "\n",
    "async def run():\n",
    "    loop = asyncio.get_event_loop()\n",
    "    for index in range(10):\n",
    "        loop.create_task(important_task(index))\n",
    "\n",
    "asyncio.get_event_loop().run_until_complete(run())\n",
    "```\n",
    "\n",
    "**Results:**\n",
    "```python\n",
    "0\n",
    "1\n",
    "2\n",
    "3\n",
    "4\n",
    "5\n",
    "6\n",
    "7\n",
    "8\n",
    "9\n",
    "```"
   ]
  },
  {
   "cell_type": "markdown",
   "metadata": {
    "slideshow": {
     "slide_type": "subslide"
    }
   },
   "source": [
    "## Nieskończona pętla z obsługą sygnałów systemowych\n",
    "\n",
    "```python\n",
    "loop = self.get_event_loop()\n",
    "\n",
    "# setup services, make db connection etc...\n",
    "async def bootstrap():\n",
    "    pass\n",
    "\n",
    "# terminate connection to db, redis etc...\n",
    "async def shutdown():\n",
    "    pass\n",
    "\n",
    "# stop the loop, cancel asyncio task etc...\n",
    "def terminate():\n",
    "    loop.stop()\n",
    "\n",
    "# Initial events\n",
    "loop.create_task(bootstrap())\n",
    "\n",
    "# Register signals for graceful termination\n",
    "for _signal in (signal.SIGINT, signal.SIGTERM):\n",
    "    loop.add_signal_handler(_signal, terminate())\n",
    "    \n",
    "# Main loop start\n",
    "try:\n",
    "    loop.run_forever()\n",
    "finally:\n",
    "    loop.run_until_complete(shutdown())\n",
    "    loop.close()\n",
    "```"
   ]
  },
  {
   "cell_type": "markdown",
   "metadata": {
    "slideshow": {
     "slide_type": "subslide"
    }
   },
   "source": [
    "## Mój task jest długi, i blokuje przełączanie pętli\n",
    "\n",
    "Rozwiązaniem jest podział taska na mniejsze kawałki, które będziemy wyowłaywać przez await lub jako osobne taski.\n",
    "Mozna także użyć sztuczki: `await asyncio.sleep(0)`\n",
    "\n",
    "```python\n",
    "async def long_task():\n",
    "    for strategy in strategies:\n",
    "        strategy.make_decision()\n",
    "        await.sleep(0)       \n",
    "```"
   ]
  },
  {
   "cell_type": "markdown",
   "metadata": {
    "slideshow": {
     "slide_type": "slide"
    }
   },
   "source": [
    "# Co dalej?\n"
   ]
  },
  {
   "cell_type": "markdown",
   "metadata": {
    "slideshow": {
     "slide_type": "subslide"
    }
   },
   "source": [
    "## Przydatne linki\n",
    "1. https://docs.python.org/3/library/asyncio.html\n",
    "1. https://hackernoon.com/asyncio-for-the-working-python-developer-5c468e6e2e8e\n",
    "1. https://medium.com/python-pandemonium/asyncio-coroutine-patterns-beyond-await-a6121486656f\n",
    "1. https://medium.com/@yeraydiazdiaz/asyncio-coroutine-patterns-errors-and-cancellation-3bb422e961ff\n",
    "1. https://magic.io/blog/asyncpg-1m-rows-from-postgres-to-python/\n",
    "1. https://magic.io/blog/uvloop-blazing-fast-python-networking/\n",
    "1. https://github.com/channelcat/sanic\n",
    "1. http://lucumr.pocoo.org/2016/10/30/i-dont-understand-asyncio/"
   ]
  },
  {
   "cell_type": "markdown",
   "metadata": {
    "slideshow": {
     "slide_type": "subslide"
    }
   },
   "source": [
    "## Włącz tryb debug\n",
    "\n",
    "Możesz ustawić zmienną środowiskową `PYTHONASYNCIODEBUG=1` lub dodać w kodzie wywołanie `loop.set_debug()`."
   ]
  },
  {
   "cell_type": "markdown",
   "metadata": {
    "slideshow": {
     "slide_type": "subslide"
    }
   },
   "source": [
    "## Asyncio ma przyzwoity domyślny logger\n",
    "\n",
    "Należy tylko pamiętać o ustawieniu poziomu debug.\n",
    "\n",
    "Przykładowa prosta konfiguracja\n",
    "\n",
    "```python\n",
    "import logging\n",
    "formatter = logging.Formatter('%(asctime)s - %(name)s - %(levelname)s - %(message)s')\n",
    "chandler = logging.StreamHandler()\n",
    "chandler.setFormatter(formatter)\n",
    "logger = logging.getLogger()\n",
    "logger.setLevel(logging.DEBUG)\n",
    "logger.addHandler(chandler)\n",
    "```"
   ]
  }
 ],
 "metadata": {
  "celltoolbar": "Slideshow",
  "kernelspec": {
   "display_name": "Python 3",
   "language": "python",
   "name": "python3"
  },
  "language_info": {
   "codemirror_mode": {
    "name": "ipython",
    "version": 3
   },
   "file_extension": ".py",
   "mimetype": "text/x-python",
   "name": "python",
   "nbconvert_exporter": "python",
   "pygments_lexer": "ipython3",
   "version": "3.6.3"
  }
 },
 "nbformat": 4,
 "nbformat_minor": 2
}
